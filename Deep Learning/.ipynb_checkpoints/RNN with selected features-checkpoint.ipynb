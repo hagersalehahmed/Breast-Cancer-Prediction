{
 "cells": [
  {
   "cell_type": "code",
   "execution_count": 1,
   "metadata": {
    "id": "XjZSolvm8K25"
   },
   "outputs": [
    {
     "name": "stderr",
     "output_type": "stream",
     "text": [
      "C:\\Users\\hager\\AppData\\Local\\Temp/ipykernel_13024/2389151812.py:20: DeprecationWarning: `import kerastuner` is deprecated, please use `import keras_tuner`.\n",
      "  import kerastuner as kt\n"
     ]
    }
   ],
   "source": [
    "import numpy as np\n",
    "import pandas as pd\n",
    "# Evaluation libraries\n",
    "from sklearn.metrics import accuracy_score, precision_score, f1_score ,recall_score\n",
    "import tensorflow as tf\n",
    "import keras\n",
    "from keras.layers import Dense,Dropout\n",
    "from keras.models import Sequential\n",
    "from keras.callbacks import EarlyStopping\n",
    "from sklearn.preprocessing import OneHotEncoder\n",
    "from sklearn.preprocessing import LabelEncoder \n",
    "le = LabelEncoder() \n",
    "from keras.utils import np_utils\n",
    "from sklearn.model_selection import KFold \n",
    "from sklearn.preprocessing import MinMaxScaler\n",
    "# keras-tuner optimization\n",
    "import kerastuner as kt\n",
    "from kerastuner.tuners import RandomSearch\n",
    "from numpy import average\n",
    "from keras import backend as K\n",
    "from tensorflow import keras\n",
    "from tensorflow.keras import layers\n",
    "from tensorflow.keras.callbacks import EarlyStopping\n",
    "# Visualization Data\n",
    "import matplotlib.pyplot as plt"
   ]
  },
  {
   "cell_type": "code",
   "execution_count": 2,
   "metadata": {},
   "outputs": [],
   "source": [
    "list1=['radius_mean', 'perimeter_mean', 'area_mean', 'concavity_mean',\n",
    "       'concave points_mean', 'radius_worst', 'texture_worst',\n",
    "       'perimeter_worst', 'area_worst', 'smoothness_worst',\n",
    "       'concave points_worst','label']"
   ]
  },
  {
   "cell_type": "markdown",
   "metadata": {},
   "source": [
    "### Reading  training set and testing set"
   ]
  },
  {
   "cell_type": "code",
   "execution_count": 3,
   "metadata": {
    "colab": {
     "base_uri": "https://localhost:8080/"
    },
    "executionInfo": {
     "elapsed": 30,
     "status": "ok",
     "timestamp": 1637502236913,
     "user": {
      "displayName": "hager saleh",
      "photoUrl": "https://lh3.googleusercontent.com/a/default-user=s64",
      "userId": "04961961339784377923"
     },
     "user_tz": -120
    },
    "id": "rqNfvg4O8K3B",
    "outputId": "0e321fed-dea3-4681-f3db-5d390bfa015e"
   },
   "outputs": [
    {
     "ename": "NameError",
     "evalue": "name 'train_set' is not defined",
     "output_type": "error",
     "traceback": [
      "\u001b[1;31m---------------------------------------------------------------------------\u001b[0m",
      "\u001b[1;31mNameError\u001b[0m                                 Traceback (most recent call last)",
      "\u001b[1;32m~\\AppData\\Local\\Temp/ipykernel_13024/1117911766.py\u001b[0m in \u001b[0;36m<cell line: 2>\u001b[1;34m()\u001b[0m\n\u001b[0;32m      1\u001b[0m \u001b[0mtrain\u001b[0m\u001b[1;33m=\u001b[0m \u001b[0mpd\u001b[0m\u001b[1;33m.\u001b[0m\u001b[0mread_csv\u001b[0m\u001b[1;33m(\u001b[0m\u001b[1;34m'train_datasetset1.csv'\u001b[0m\u001b[1;33m,\u001b[0m\u001b[0mencoding\u001b[0m\u001b[1;33m=\u001b[0m\u001b[1;34m'utf-8'\u001b[0m\u001b[1;33m)\u001b[0m\u001b[1;33m\u001b[0m\u001b[1;33m\u001b[0m\u001b[0m\n\u001b[1;32m----> 2\u001b[1;33m \u001b[0mtrain_set\u001b[0m\u001b[1;33m=\u001b[0m\u001b[0mtrain_set\u001b[0m\u001b[1;33m[\u001b[0m\u001b[0mlist1\u001b[0m\u001b[1;33m]\u001b[0m\u001b[1;33m\u001b[0m\u001b[1;33m\u001b[0m\u001b[0m\n\u001b[0m\u001b[0;32m      3\u001b[0m \u001b[0my_train\u001b[0m \u001b[1;33m=\u001b[0m \u001b[0mtrain\u001b[0m\u001b[1;33m.\u001b[0m\u001b[0mlabel\u001b[0m\u001b[1;33m\u001b[0m\u001b[1;33m\u001b[0m\u001b[0m\n\u001b[0;32m      4\u001b[0m \u001b[0mX_train\u001b[0m\u001b[1;33m=\u001b[0m \u001b[0mtrain\u001b[0m\u001b[1;33m.\u001b[0m\u001b[0mdrop\u001b[0m\u001b[1;33m(\u001b[0m\u001b[1;34m'label'\u001b[0m\u001b[1;33m,\u001b[0m\u001b[0maxis\u001b[0m \u001b[1;33m=\u001b[0m \u001b[1;36m1\u001b[0m \u001b[1;33m)\u001b[0m\u001b[1;33m\u001b[0m\u001b[1;33m\u001b[0m\u001b[0m\n\u001b[0;32m      5\u001b[0m \u001b[0mtest_set\u001b[0m\u001b[1;33m=\u001b[0m\u001b[0mtest_set\u001b[0m\u001b[1;33m[\u001b[0m\u001b[0mlist1\u001b[0m\u001b[1;33m]\u001b[0m\u001b[1;33m\u001b[0m\u001b[1;33m\u001b[0m\u001b[0m\n",
      "\u001b[1;31mNameError\u001b[0m: name 'train_set' is not defined"
     ]
    }
   ],
   "source": [
    "train= pd.read_csv('train_datasetset1.csv',encoding='utf-8')\n",
    "train_set=train_set[list1]\n",
    "y_train = train.label                           \n",
    "X_train= train.drop('label',axis = 1 )\n",
    "test_set=test_set[list1]\n",
    "train.label.value_counts()"
   ]
  },
  {
   "cell_type": "code",
   "execution_count": null,
   "metadata": {
    "id": "FlfPCQcq8K3E",
    "scrolled": true
   },
   "outputs": [],
   "source": [
    "test= pd.read_csv('unseen_dataset1.csv',encoding='utf-8')\n",
    "y_test = test.label                           \n",
    "X_test= test.drop('label',axis = 1 )\n",
    "test.label.value_counts()"
   ]
  },
  {
   "cell_type": "code",
   "execution_count": null,
   "metadata": {},
   "outputs": [],
   "source": [
    "num_features=len(X_train.columns)"
   ]
  },
  {
   "cell_type": "markdown",
   "metadata": {},
   "source": [
    "### Sacling dataset"
   ]
  },
  {
   "cell_type": "code",
   "execution_count": null,
   "metadata": {},
   "outputs": [],
   "source": [
    "scaler = MinMaxScaler(feature_range=(0, 1))\n",
    "X_train = scaler.fit_transform(X_train)\n",
    "X_test = scaler.transform(X_test)"
   ]
  },
  {
   "cell_type": "markdown",
   "metadata": {},
   "source": [
    "### OneHotEncoder"
   ]
  },
  {
   "cell_type": "code",
   "execution_count": null,
   "metadata": {
    "id": "tusq7R1v8K3G"
   },
   "outputs": [],
   "source": [
    "encoder = LabelEncoder()\n",
    "encoded_y_train= encoder.fit_transform(y_train)\n",
    "y_train_categorical = np_utils.to_categorical(encoded_y_train)\n",
    "y_test = encoder.transform(y_test)\n",
    "y_test_categorical=np_utils.to_categorical(y_test)"
   ]
  },
  {
   "cell_type": "code",
   "execution_count": null,
   "metadata": {},
   "outputs": [],
   "source": [
    "Epochs=50\n",
    "Batch_size=10"
   ]
  },
  {
   "cell_type": "markdown",
   "metadata": {},
   "source": [
    "### Evaluation methods"
   ]
  },
  {
   "cell_type": "code",
   "execution_count": null,
   "metadata": {
    "id": "Q-1WP2Ta8K3K"
   },
   "outputs": [],
   "source": [
    "from keras import backend as K\n",
    "\n",
    "def recall_m(y_true, y_pred):\n",
    "    true_positives = K.sum(K.round(K.clip(y_true * y_pred, 0, 1)))\n",
    "    possible_positives = K.sum(K.round(K.clip(y_true, 0, 1)))\n",
    "    recall = true_positives / (possible_positives + K.epsilon())\n",
    "    return recall\n",
    "\n",
    "def precision_m(y_true, y_pred):\n",
    "    true_positives = K.sum(K.round(K.clip(y_true * y_pred, 0, 1)))\n",
    "    predicted_positives = K.sum(K.round(K.clip(y_pred, 0, 1)))\n",
    "    precision = true_positives / (predicted_positives + K.epsilon())\n",
    "    return precision\n",
    "\n",
    "def f1_m(y_true, y_pred):\n",
    "    precision = precision_m(y_true, y_pred)\n",
    "    recall = recall_m(y_true, y_pred)\n",
    "    return 2*((precision*recall)/(precision+recall+K.epsilon()))"
   ]
  },
  {
   "cell_type": "markdown",
   "metadata": {},
   "source": [
    "### KerasTuner \n",
    "#https://keras.io/keras_tuner/ \n",
    "KerasTuner is an easy-to-use, scalable hyperparameter optimization framework that solves the pain points of hyperparameter search. Easily configure your search space with a define-by-run syntax, then leverage one of the available search algorithms to find the best hyperparameter values for your models. KerasTuner comes with Bayesian Optimization, Hyperband, and Random Search algorithms built-in, and is also designed to be easy for researchers to extend in order to experiment with new search algorithms.\n",
    "We "
   ]
  },
  {
   "cell_type": "code",
   "execution_count": null,
   "metadata": {
    "colab": {
     "base_uri": "https://localhost:8080/"
    },
    "executionInfo": {
     "elapsed": 11,
     "status": "ok",
     "timestamp": 1637502239738,
     "user": {
      "displayName": "hager saleh",
      "photoUrl": "https://lh3.googleusercontent.com/a/default-user=s64",
      "userId": "04961961339784377923"
     },
     "user_tz": -120
    },
    "id": "RcTGP13Y8K3L",
    "outputId": "7792284c-22f9-40a5-87ea-af5d7d742b3f"
   },
   "outputs": [],
   "source": [
    "def build_model(hp):\n",
    "    num_units_min  =  50\n",
    "    num_units_max  =  600\n",
    "    num_units_step =  20\n",
    "\n",
    "    dropout_min  =  .2\n",
    "    dropout_max  =  0.9\n",
    "    dropout_step =  0.1\n",
    "    \n",
    "    model = keras.Sequential()\n",
    "    model.add(layers.Dense(units=hp.Int('unit1',  min_value=num_units_min,\n",
    "                                                 max_value=num_units_max,\n",
    "                                                 step=num_units_step),\n",
    "                                                 input_dim=num_features, \n",
    "                                                kernel_initializer='he_uniform',\n",
    "                           activation='relu'))\n",
    "    model.add(layers.Dropout(hp.Float('dropout_1',min_value=dropout_min,\n",
    "                                      max_value=dropout_max,\n",
    "                                      step=dropout_step) ) )\n",
    "    for i in range(hp.Int('num_layers', 1, 5)):\n",
    "        model.add(layers.Dense(units=hp.Int('unitfor_'+ str(i),\n",
    "                                            min_value=num_units_min,\n",
    "                                            max_value=num_units_max,\n",
    "                                            step=num_units_step),\n",
    "                                           kernel_initializer='he_uniform',activation='relu'          \n",
    "                                         ))\n",
    "        model.add(layers.Dropout(hp.Float('dropout_2'+ str(i),min_value=dropout_min,\n",
    "                                      max_value=dropout_max,\n",
    "                                      step=dropout_step) ) )\n",
    "    \n",
    "    model.add(layers.Dense(2, activation='sigmoid'))\n",
    "    model.compile(\n",
    "        optimizer=keras.optimizers.Adam(hp.Choice('learning_rate',values=[ 1e-4])),\n",
    "       loss='binary_crossentropy', \n",
    "       metrics=['acc',f1_m,precision_m, recall_m])\n",
    "    return model\n"
   ]
  },
  {
   "cell_type": "code",
   "execution_count": null,
   "metadata": {
    "colab": {
     "base_uri": "https://localhost:8080/"
    },
    "executionInfo": {
     "elapsed": 1221,
     "status": "ok",
     "timestamp": 1637502240949,
     "user": {
      "displayName": "hager saleh",
      "photoUrl": "https://lh3.googleusercontent.com/a/default-user=s64",
      "userId": "04961961339784377923"
     },
     "user_tz": -120
    },
    "id": "Go5T198Y9Ee9",
    "outputId": "b87078a1-b82a-4da7-cda5-0a26250eda9b"
   },
   "outputs": [],
   "source": [
    "# Determine project name and the number of iteration \n",
    "tuner = RandomSearch(\n",
    "    build_model,\n",
    "    objective='val_acc',\n",
    "    max_trials=2,\n",
    "    project_name='RNN')\n"
   ]
  },
  {
   "cell_type": "code",
   "execution_count": null,
   "metadata": {
    "colab": {
     "base_uri": "https://localhost:8080/"
    },
    "executionInfo": {
     "elapsed": 609307,
     "status": "ok",
     "timestamp": 1637502850247,
     "user": {
      "displayName": "hager saleh",
      "photoUrl": "https://lh3.googleusercontent.com/a/default-user=s64",
      "userId": "04961961339784377923"
     },
     "user_tz": -120
    },
    "id": "B3yFp2dj8K3M",
    "outputId": "6a1fb7a2-f922-4104-d176-fc6c874135e9"
   },
   "outputs": [],
   "source": [
    "\n",
    "early_stopping = EarlyStopping(monitor='val_acc', patience=30, verbose=1)\n",
    "callback_list = [ early_stopping ]\n",
    "h=tuner.search(X_train, y_train_categorical,\n",
    "             epochs=Epochs,\n",
    "             batch_size=Batch_size, \n",
    "             callbacks=callback_list, validation_data=(X_test,y_test_categorical) )\n",
    "            \n",
    "model = tuner.get_best_models(num_models=1)[0]\n"
   ]
  },
  {
   "cell_type": "markdown",
   "metadata": {},
   "source": [
    "### get the best values of parameters"
   ]
  },
  {
   "cell_type": "code",
   "execution_count": null,
   "metadata": {
    "colab": {
     "base_uri": "https://localhost:8080/"
    },
    "executionInfo": {
     "elapsed": 37,
     "status": "ok",
     "timestamp": 1637502850249,
     "user": {
      "displayName": "hager saleh",
      "photoUrl": "https://lh3.googleusercontent.com/a/default-user=s64",
      "userId": "04961961339784377923"
     },
     "user_tz": -120
    },
    "id": "tLJa080e8K3N",
    "outputId": "efb93e24-27a6-44ec-9cf4-32f496053a90"
   },
   "outputs": [],
   "source": [
    "tuner.get_best_hyperparameters()[0].values"
   ]
  },
  {
   "cell_type": "code",
   "execution_count": null,
   "metadata": {
    "colab": {
     "base_uri": "https://localhost:8080/"
    },
    "executionInfo": {
     "elapsed": 662280,
     "status": "ok",
     "timestamp": 1637503514384,
     "user": {
      "displayName": "hager saleh",
      "photoUrl": "https://lh3.googleusercontent.com/a/default-user=s64",
      "userId": "04961961339784377923"
     },
     "user_tz": -120
    },
    "id": "pwtGuBaKQWRQ",
    "outputId": "4bfc8119-1054-46f4-ac36-5285e01c1eae"
   },
   "outputs": [],
   "source": [
    "AccuracyTrain=[]\n",
    "PrecisionTrain=[]\n",
    "RecallTrain=[]\n",
    "F1Train=[]\n",
    "Roc_auc_Train=[]\n",
    "AccuracyTest=[]\n",
    "PrecisionTest=[]\n",
    "RecallTest=[]\n",
    "F1Test=[]\n",
    "\n",
    "for i in range(0,4):    \n",
    "    if i==0:\n",
    "        r=70\n",
    "    elif i== 1:\n",
    "        r=80\n",
    "    elif i== 2:\n",
    "        r=90\n",
    "    elif i== 3:\n",
    "        r=100\n",
    "    elif i== 4:\n",
    "        r=140\n",
    "    \n",
    "    kf = KFold(n_splits=10,random_state=r,shuffle=True) \n",
    "    for train_index, test_index in kf.split(X_train):\n",
    "        X_t, X_val = X_train[train_index], X_train[test_index] \n",
    "        y_t, y_val = y_train_categorical[train_index], y_train_categorical[test_index]\n",
    "        h=model.fit(X_t, y_t, epochs=Epochs, batch_size=Batch_size,  verbose=1, shuffle=True, validation_data=(X_val,y_val))\n",
    "\n",
    "        AccuracyTrain.append(round(100*np.mean(h.history['val_acc']),2))\n",
    "        \n",
    "        PrecisionTrain.append(round(100*np.mean(h.history['val_precision_m']),2))\n",
    "       \n",
    "        RecallTrain.append(round(100*np.mean(h.history['val_recall_m']),2))\n",
    "        \n",
    "        F1Train.append(round(100*np.mean(h.history['val_f1_m']),2))\n",
    "        "
   ]
  },
  {
   "cell_type": "code",
   "execution_count": null,
   "metadata": {
    "id": "D_Revlt58K3P"
   },
   "outputs": [],
   "source": [
    "for i in range(0,4): \n",
    "    model.fit(X_train, y_train_categorical, epochs=Epochs, batch_size=Batch_size,  verbose=1, shuffle=True)\n",
    "    y_p = model.predict(X_test)\n",
    "    y_pred= np.argmax(y_p, axis=1)\n",
    "    \n",
    "\n",
    "    Accurcy_Test= accuracy_score(y_test,y_pred)\n",
    "    Precision_Test=precision_score(y_test, y_pred,average='weighted')\n",
    "\n",
    "    Recall_Test=recall_score(y_test, y_pred, average='weighted')\n",
    "    F1_Test=f1_score(y_test, y_pred, average='weighted') \n",
    "\n",
    "    AccuracyTest.append(round(100*Accurcy_Test, 2))\n",
    "    PrecisionTest.append(round(100*Precision_Test, 2))\n",
    "    RecallTest.append(round(100*Recall_Test, 2))\n",
    "    F1Test.append(round(100*F1_Test, 2))\n",
    "    "
   ]
  },
  {
   "cell_type": "code",
   "execution_count": null,
   "metadata": {
    "id": "1CeDezzT8K3Q"
   },
   "outputs": [],
   "source": [
    "finaltrain = pd.DataFrame([])\n",
    "\n",
    "finaltrain = finaltrain.append({'AccuracyTrain' : round(np.mean(AccuracyTrain),2),\n",
    "                                'PrecisionTrain':round(np.mean(PrecisionTrain),2),\n",
    "                                'RecallTrain':round(np.mean(RecallTrain),2),  \n",
    "                                'F1Train':round(np.mean(F1Train),2)} , ignore_index=True)\n",
    "\n",
    "finaltrain.reindex(['AccuracyTrain','PrecisionTrain','RecallTrain','F1Train'], axis=1)"
   ]
  },
  {
   "cell_type": "code",
   "execution_count": null,
   "metadata": {
    "colab": {
     "base_uri": "https://localhost:8080/",
     "height": 81
    },
    "executionInfo": {
     "elapsed": 21,
     "status": "ok",
     "timestamp": 1637503582011,
     "user": {
      "displayName": "hager saleh",
      "photoUrl": "https://lh3.googleusercontent.com/a/default-user=s64",
      "userId": "04961961339784377923"
     },
     "user_tz": -120
    },
    "id": "k25fKcEyvQ3q",
    "outputId": "a1606b23-81ca-498a-dde3-eaf4c5319303"
   },
   "outputs": [],
   "source": [
    "ReultofTest=pd.DataFrame([])\n",
    "ReultofTest=ReultofTest.append({'AccuracyTest' : round(np.mean(AccuracyTest),2),'PrecisionTest':round(np.mean(PrecisionTest),2),\n",
    "             'RecallTest' : round(np.mean(RecallTest),2),'F1Test':round(np.mean(F1Test),2)}, ignore_index=True)\n",
    "\n",
    "ReultofTest.reindex(['AccuracyTest','PrecisionTest','RecallTest','F1Test'], axis=1)"
   ]
  }
 ],
 "metadata": {
  "accelerator": "GPU",
  "colab": {
   "collapsed_sections": [],
   "machine_shape": "hm",
   "name": "LSTM-layer1.ipynb",
   "provenance": []
  },
  "kernelspec": {
   "display_name": "Python 3 (ipykernel)",
   "language": "python",
   "name": "python3"
  },
  "language_info": {
   "codemirror_mode": {
    "name": "ipython",
    "version": 3
   },
   "file_extension": ".py",
   "mimetype": "text/x-python",
   "name": "python",
   "nbconvert_exporter": "python",
   "pygments_lexer": "ipython3",
   "version": "3.9.7"
  }
 },
 "nbformat": 4,
 "nbformat_minor": 1
}
